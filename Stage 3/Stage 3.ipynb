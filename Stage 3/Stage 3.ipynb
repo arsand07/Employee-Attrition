{
 "cells": [
  {
   "cell_type": "markdown",
   "metadata": {},
   "source": [
    "| Kolom                    | Interpretasi                                  |\n",
    "| ------------------------ | --------------------------------------------- |\n",
    "| Age                      | Usia                                          |\n",
    "| Attrition                | Tidak bekerja lagi                            |\n",
    "| BusinessTravel           | Frekuensi bepergian (travelling)              |\n",
    "| DailyRate                | Upah harian                                   |\n",
    "| Department               | Departmen pada pekerjaan                      |\n",
    "| DistanceFromHome         | Jarak dari rumah ke tempat kerja (KM)         |\n",
    "| Education                |  1 'Below College' 2 'College' 3 'Bachelor' 4 'Master' 5 'Doctor' |\n",
    "| EducationField           | Bidang pendidikan                             |\n",
    "| EmployeeCount            |                                               |\n",
    "| EmployeeNumber           |                                               |\n",
    "| EnvironmentSatisfaction  | Kepuasan terhadap lingkungan kerja => 1 'Low' 2 'Medium' 3 'High' 4 'Very High'            |\n",
    "| Gender                   | Jenis kelamin                                 |\n",
    "| HourlyRate               | Upah perjam                                   |\n",
    "| JobInvolvement           | Tingkat keterlibatan kerja => 1 'Low' 2 'Medium' 3 'High' 4 'Very High'                   |\n",
    "| JobLevel                 | Level kesulitan pekerjaan                     |\n",
    "| JobRole                  | Posisi Pekerjaan                              |\n",
    "| JobSatisfaction          | Kepuasan terhadap pekerjaan => 1 'Low' 2 'Medium' 3 'High' 4 'Very High'                  |\n",
    "| MaritalStatus            | Status Perkawinan                             |\n",
    "| MonthlyIncome            | Income Bulanan                                |\n",
    "| MonthlyRate              | Upah Bulanan                                  |\n",
    "| NumCompaniesWorked       | Banyaknya perusahaan tempat bekerja           |\n",
    "| Over18                   | Apakah usianya > 18?                          |\n",
    "| OverTime                 | Apakah jam kerja overtime?                    |\n",
    "| PercentSalaryHike        | Persentase kenaikan gaji                      |\n",
    "| PerformanceRating        | Rating performa kerja  => 1 'Low' 2 'Good' 3 'Excellent' 4 'Outstanding'                       |\n",
    "| RelationshipSatisfaction | Kepuasan terhadap relasi di tempat kerja => 1 'Low' 2 'Medium' 3 'High' 4 'Very High'      |\n",
    "| StandardHours            | Standard jam kerja                            |\n",
    "| StockOptionLevel         |                                               |\n",
    "| TotalWorkingYears        | Lama bekerja (Tahun)                          |\n",
    "| TrainingTimesLastYear    | Jumlah training tahun kemarin                 |\n",
    "| WorkLifeBalance          | Keseimbangan kerja => 1 'Bad' 2 'Good' 3 'Better' 4 'Best'                           |\n",
    "| YearsAtCompany           | Lama bekerja pada perusahaan                  |\n",
    "| YearsInCurrentRole       | Lama bekerja pada posisi ini                  |\n",
    "| YearsSinceLastPromotion  | Lama berkerja sejak kenaikan jabatan terakhir |\n",
    "| YearsWithCurrManager     | Lama bekerja dengan manager saat ini          |"
   ]
  },
  {
   "cell_type": "markdown",
   "metadata": {},
   "source": [
    "# __SUPERVISED LEARNING__"
   ]
  },
  {
   "cell_type": "code",
   "execution_count": 16,
   "metadata": {},
   "outputs": [],
   "source": [
    "import pandas as pd\n",
    "import matplotlib.pyplot as plt\n",
    "import seaborn as sns\n",
    "from matplotlib import rcParams\n",
    "\n",
    "rcParams['figure.figsize'] = (10,7)\n",
    "rcParams['lines.linewidth'] = 2.5\n",
    "rcParams['xtick.labelsize'] = 'x-large'\n",
    "rcParams['ytick.labelsize'] = 'x-large'\n",
    "\n",
    "sns.set_theme(style='darkgrid')\n",
    "sns.set(font_scale=1.2, palette='Set1')"
   ]
  },
  {
   "cell_type": "markdown",
   "metadata": {},
   "source": [
    "## __MODELLING__"
   ]
  },
  {
   "cell_type": "markdown",
   "metadata": {},
   "source": [
    "### __SPLIT DATA__"
   ]
  },
  {
   "cell_type": "markdown",
   "metadata": {},
   "source": [
    "Kami akan melakukan split data dengan menggunakan train_test_split dengan perbandingan 70:30"
   ]
  },
  {
   "cell_type": "code",
   "execution_count": 17,
   "metadata": {},
   "outputs": [
    {
     "data": {
      "text/plain": [
       "((1726, 20), (740, 20), (1726,), (740,))"
      ]
     },
     "execution_count": 17,
     "metadata": {},
     "output_type": "execute_result"
    }
   ],
   "source": [
    "df = pd.read_csv('../Stage 2/Preprocessed.csv')\n",
    "\n",
    "#pisahkan target dan fitur\n",
    "x = df.drop('Attrition', axis=1)\n",
    "y = df['Attrition']\n",
    "\n",
    "from sklearn.model_selection import train_test_split\n",
    "\n",
    "X_train, X_test, y_train, y_test = train_test_split(x,y, test_size=0.3, stratify=y, random_state=7)\n",
    "X_train.shape, X_test.shape, y_train.shape, y_test.shape"
   ]
  },
  {
   "cell_type": "markdown",
   "metadata": {},
   "source": [
    " - Kasus False Negative\n",
    "\n",
    " Karyawan yang diprediksi akan melakukan resign tapi data aktualnya tidak resign, hal ini jika dilakukan \"perlakuan khusus\" akan membuat cost untuk hal ini menjadi membesar tanpa hasil apapun karena memang karyawan tidak berencana utk resign\n",
    "\n",
    " - Kasus False Positive\n",
    "\n",
    " Karyawan yang diprediksi tidak akan resign, tapi data aktualnya resign, hal ini jika dilakukan \"perlakuan khusus\" akan membuat company kehilangan karyawan yang potensial, sehingga membuat company mengalami kerugian karena juga harus melakukan rekrutmen yang membutuhkan biaya"
   ]
  },
  {
   "cell_type": "markdown",
   "metadata": {},
   "source": [
    "Metriks yang kita gunakan dalam case ini adalah roc_auc, karena kita sama sama mementingkan FN dan FP, selain itu dataset ini juga termasuk imbalance "
   ]
  },
  {
   "cell_type": "code",
   "execution_count": 25,
   "metadata": {},
   "outputs": [],
   "source": [
    "from sklearn.metrics import accuracy_score, precision_score, recall_score, f1_score, roc_auc_score\n",
    "from sklearn.model_selection import cross_validate\n",
    "\n",
    "def eval_classification(model):\n",
    "        y_pred = model.predict(X_test)\n",
    "        y_pred_train = model.predict(X_train)\n",
    "        y_pred_proba = model.predict_proba(X_test)\n",
    "        y_pred_proba_train = model.predict_proba(X_train)\n",
    "\n",
    "        print(\"Accuracy (Test Set): %.2f\" % accuracy_score(y_test, y_pred))\n",
    "        print(\"Precision (Test Set): %.2f\" % precision_score(y_test, y_pred))\n",
    "        print(\"Recall (Test Set): %.2f\" % recall_score(y_test, y_pred))\n",
    "        print(\"F1-Score (Test Set): %.2f\" % f1_score(y_test, y_pred))\n",
    "\n",
    "        print(\"\\nroc_auc (train-proba): %.2f\" % roc_auc_score(y_train, y_pred_proba_train[:, 1]))\n",
    "        print(\"roc_auc (test-proba): %.2f\" % roc_auc_score(y_test, y_pred_proba[:, 1]))\n",
    "\n",
    "        score = cross_validate(model, x, y, cv=5, scoring='roc_auc', return_train_score=True)\n",
    "        print('\\nroc_auc (crossval train): '+ str(round(score['train_score'].mean(),2)))\n",
    "        print('roc_auc (crossval test): '+ str(round(score['test_score'].mean(),2)))"
   ]
  },
  {
   "cell_type": "markdown",
   "metadata": {},
   "source": [
    "### __LOGISTIC REGRESSION__"
   ]
  },
  {
   "cell_type": "markdown",
   "metadata": {},
   "source": [
    "Kami menggunakan algoritma logistik regression karena algoritma ini termasuk yang simple dan komputasinya cepat, sehingga bisa dijadikan sebagai base model untuk melihat seberapa bagus performa model"
   ]
  },
  {
   "cell_type": "code",
   "execution_count": 26,
   "metadata": {},
   "outputs": [
    {
     "name": "stdout",
     "output_type": "stream",
     "text": [
      "Accuracy (Test Set): 0.86\n",
      "Precision (Test Set): 0.88\n",
      "Recall (Test Set): 0.84\n",
      "F1-Score (Test Set): 0.86\n",
      "\n",
      "roc_auc (train-proba): 0.91\n",
      "roc_auc (test-proba): 0.93\n",
      "\n",
      "roc_auc (crossval train): 0.92\n",
      "roc_auc (crossval test): 0.91\n"
     ]
    }
   ],
   "source": [
    "from sklearn.linear_model import LogisticRegression\n",
    "\n",
    "lr = LogisticRegression(max_iter=110)\n",
    "lr.fit(X_train, y_train)\n",
    "\n",
    "eval_classification(lr)"
   ]
  },
  {
   "cell_type": "markdown",
   "metadata": {},
   "source": [
    "Karena score pada model Logistic Regression sudah sangat bagus dan tidak adanya indikasi overfitting/underfitting, maka model ini tidak perlu lagi dilakukan tuning"
   ]
  },
  {
   "cell_type": "markdown",
   "metadata": {},
   "source": [
    "### __K-NEAREST NEIGBORS__"
   ]
  },
  {
   "cell_type": "markdown",
   "metadata": {},
   "source": [
    "Kami menggunakan algoritma KNN karena dataset ini bersifat non linear, walaupun KNN termasuk algoritma yg membutuhkan komputasi banyak, dataset ini hanya memiliki 2466 baris dan 20 kolom, sehingga masih tidak terlalu berat untuk digunakan"
   ]
  },
  {
   "cell_type": "code",
   "execution_count": 27,
   "metadata": {},
   "outputs": [
    {
     "name": "stdout",
     "output_type": "stream",
     "text": [
      "Accuracy (Test Set): 0.88\n",
      "Precision (Test Set): 0.85\n",
      "Recall (Test Set): 0.93\n",
      "F1-Score (Test Set): 0.89\n",
      "\n",
      "roc_auc (train-proba): 0.97\n",
      "roc_auc (test-proba): 0.94\n",
      "\n",
      "roc_auc (crossval train): 0.97\n",
      "roc_auc (crossval test): 0.93\n"
     ]
    }
   ],
   "source": [
    "from sklearn.neighbors import KNeighborsClassifier\n",
    "\n",
    "knn = KNeighborsClassifier()\n",
    "knn.fit(X_train, y_train)\n",
    "\n",
    "eval_classification(knn)"
   ]
  }
 ],
 "metadata": {
  "kernelspec": {
   "display_name": "Python 3.10.5 64-bit",
   "language": "python",
   "name": "python3"
  },
  "language_info": {
   "codemirror_mode": {
    "name": "ipython",
    "version": 3
   },
   "file_extension": ".py",
   "mimetype": "text/x-python",
   "name": "python",
   "nbconvert_exporter": "python",
   "pygments_lexer": "ipython3",
   "version": "3.10.5"
  },
  "orig_nbformat": 4,
  "vscode": {
   "interpreter": {
    "hash": "7991611f1204b27f6cfa489e0663365e0a74444b4c5d959170e0f3700bb91e72"
   }
  }
 },
 "nbformat": 4,
 "nbformat_minor": 2
}
