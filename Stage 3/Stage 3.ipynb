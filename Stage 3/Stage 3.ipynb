{
 "cells": [
  {
   "cell_type": "markdown",
   "metadata": {},
   "source": [
    "| Kolom                    | Interpretasi                                  |\n",
    "| ------------------------ | --------------------------------------------- |\n",
    "| Age                      | Usia                                          |\n",
    "| Attrition                | Tidak bekerja lagi                            |\n",
    "| BusinessTravel           | Frekuensi bepergian (travelling)              |\n",
    "| DailyRate                | Upah harian                                   |\n",
    "| Department               | Departmen pada pekerjaan                      |\n",
    "| DistanceFromHome         | Jarak dari rumah ke tempat kerja (KM)         |\n",
    "| Education                |  1 'Below College' 2 'College' 3 'Bachelor' 4 'Master' 5 'Doctor' |\n",
    "| EducationField           | Bidang pendidikan                             |\n",
    "| EmployeeCount            |                                               |\n",
    "| EmployeeNumber           |                                               |\n",
    "| EnvironmentSatisfaction  | Kepuasan terhadap lingkungan kerja => 1 'Low' 2 'Medium' 3 'High' 4 'Very High'            |\n",
    "| Gender                   | Jenis kelamin                                 |\n",
    "| HourlyRate               | Upah perjam                                   |\n",
    "| JobInvolvement           | Tingkat keterlibatan kerja => 1 'Low' 2 'Medium' 3 'High' 4 'Very High'                   |\n",
    "| JobLevel                 | Level kesulitan pekerjaan                     |\n",
    "| JobRole                  | Posisi Pekerjaan                              |\n",
    "| JobSatisfaction          | Kepuasan terhadap pekerjaan => 1 'Low' 2 'Medium' 3 'High' 4 'Very High'                  |\n",
    "| MaritalStatus            | Status Perkawinan                             |\n",
    "| MonthlyIncome            | Income Bulanan                                |\n",
    "| MonthlyRate              | Upah Bulanan                                  |\n",
    "| NumCompaniesWorked       | Banyaknya perusahaan tempat bekerja           |\n",
    "| Over18                   | Apakah usianya > 18?                          |\n",
    "| OverTime                 | Apakah jam kerja overtime?                    |\n",
    "| PercentSalaryHike        | Persentase kenaikan gaji                      |\n",
    "| PerformanceRating        | Rating performa kerja  => 1 'Low' 2 'Good' 3 'Excellent' 4 'Outstanding'                       |\n",
    "| RelationshipSatisfaction | Kepuasan terhadap relasi di tempat kerja => 1 'Low' 2 'Medium' 3 'High' 4 'Very High'      |\n",
    "| StandardHours            | Standard jam kerja                            |\n",
    "| StockOptionLevel         |                                               |\n",
    "| TotalWorkingYears        | Lama bekerja (Tahun)                          |\n",
    "| TrainingTimesLastYear    | Jumlah training tahun kemarin                 |\n",
    "| WorkLifeBalance          | Keseimbangan kerja => 1 'Bad' 2 'Good' 3 'Better' 4 'Best'                           |\n",
    "| YearsAtCompany           | Lama bekerja pada perusahaan                  |\n",
    "| YearsInCurrentRole       | Lama bekerja pada posisi ini                  |\n",
    "| YearsSinceLastPromotion  | Lama berkerja sejak kenaikan jabatan terakhir |\n",
    "| YearsWithCurrManager     | Lama bekerja dengan manager saat ini          |"
   ]
  },
  {
   "cell_type": "markdown",
   "metadata": {},
   "source": [
    "# __SUPERVISED LEARNING__"
   ]
  },
  {
   "cell_type": "code",
   "execution_count": 2,
   "metadata": {},
   "outputs": [],
   "source": [
    "import pandas as pd\n",
    "import matplotlib.pyplot as plt\n",
    "import seaborn as sns\n",
    "from matplotlib import rcParams\n",
    "\n",
    "rcParams['figure.figsize'] = (10,7)\n",
    "rcParams['lines.linewidth'] = 2.5\n",
    "rcParams['xtick.labelsize'] = 'x-large'\n",
    "rcParams['ytick.labelsize'] = 'x-large'\n",
    "\n",
    "sns.set_theme(style='darkgrid')\n",
    "sns.set(font_scale=1.2, palette='Set1')\n",
    "\n",
    "import warnings\n",
    "warnings.filterwarnings('ignore')"
   ]
  },
  {
   "cell_type": "markdown",
   "metadata": {},
   "source": [
    "## __MODELLING__"
   ]
  },
  {
   "cell_type": "markdown",
   "metadata": {},
   "source": [
    "### __SPLIT DATA__"
   ]
  },
  {
   "cell_type": "markdown",
   "metadata": {},
   "source": [
    "Kami akan melakukan split data dengan menggunakan train_test_split dengan perbandingan 70:30"
   ]
  },
  {
   "cell_type": "code",
   "execution_count": 3,
   "metadata": {},
   "outputs": [
    {
     "data": {
      "text/plain": [
       "((1029, 20), (441, 20), (1029,), (441,))"
      ]
     },
     "execution_count": 3,
     "metadata": {},
     "output_type": "execute_result"
    }
   ],
   "source": [
    "df = pd.read_csv('../Stage 2/Preprocessed.csv')\n",
    "\n",
    "#pisahkan target dan fitur\n",
    "x = df.drop('Attrition', axis=1)\n",
    "y = df['Attrition']\n",
    "\n",
    "from sklearn.model_selection import train_test_split\n",
    "\n",
    "X_train, X_test, y_train, y_test = train_test_split(x,y, test_size=0.3, stratify=y, random_state=7)\n",
    "X_train.shape, X_test.shape, y_train.shape, y_test.shape"
   ]
  },
  {
   "cell_type": "markdown",
   "metadata": {},
   "source": [
    "### __HANDLE IMBALANCE__"
   ]
  },
  {
   "cell_type": "code",
   "execution_count": 9,
   "metadata": {},
   "outputs": [
    {
     "name": "stdout",
     "output_type": "stream",
     "text": [
      "Before\n",
      " 0    863\n",
      "1    166\n",
      "Name: Attrition, dtype: int64\n",
      "\n",
      "After\n",
      " 0    863\n",
      "1    863\n",
      "Name: Attrition, dtype: int64\n"
     ]
    }
   ],
   "source": [
    "print('Before\\n',y_train.value_counts())\n",
    "\n",
    "from imblearn import over_sampling\n",
    "X_train, y_train = over_sampling.SMOTE().fit_resample(X_train, y_train)\n",
    "\n",
    "print('\\nAfter\\n',y_train.value_counts())"
   ]
  },
  {
   "cell_type": "markdown",
   "metadata": {},
   "source": [
    " - Kasus False Negative\n",
    "\n",
    " Karyawan yang diprediksi akan melakukan resign tapi data aktualnya tidak resign, hal ini jika dilakukan \"perlakuan khusus\" akan membuat cost untuk hal ini menjadi membesar tanpa hasil apapun karena memang karyawan tidak berencana utk resign\n",
    "\n",
    " - Kasus False Positive\n",
    "\n",
    " Karyawan yang diprediksi tidak akan resign, tapi data aktualnya resign, hal ini jika dilakukan \"perlakuan khusus\" akan membuat company kehilangan karyawan yang potensial, sehingga membuat company mengalami kerugian karena juga harus melakukan rekrutmen yang membutuhkan biaya"
   ]
  },
  {
   "cell_type": "markdown",
   "metadata": {},
   "source": [
    "Metriks yang kita gunakan dalam case ini adalah roc_auc, karena kita sama sama mementingkan FN dan FP, selain itu dataset ini juga termasuk imbalance "
   ]
  },
  {
   "cell_type": "code",
   "execution_count": 10,
   "metadata": {},
   "outputs": [],
   "source": [
    "from sklearn.metrics import accuracy_score, precision_score, recall_score, f1_score, roc_auc_score\n",
    "from sklearn.model_selection import cross_validate\n",
    "\n",
    "def eval_classification(model):\n",
    "        y_pred = model.predict(X_test)\n",
    "        y_pred_train = model.predict(X_train)\n",
    "        y_pred_proba = model.predict_proba(X_test)\n",
    "        y_pred_proba_train = model.predict_proba(X_train)\n",
    "\n",
    "        print(\"Accuracy (Test Set): %.2f\" % accuracy_score(y_test, y_pred))\n",
    "        print(\"Precision (Test Set): %.2f\" % precision_score(y_test, y_pred))\n",
    "        print(\"Recall (Test Set): %.2f\" % recall_score(y_test, y_pred))\n",
    "        print(\"F1-Score (Test Set): %.2f\" % f1_score(y_test, y_pred))\n",
    "\n",
    "        print(\"\\nroc_auc (train-proba): %.2f\" % roc_auc_score(y_train, y_pred_proba_train[:, 1]))\n",
    "        print(\"roc_auc (test-proba): %.2f\" % roc_auc_score(y_test, y_pred_proba[:, 1]))\n",
    "\n",
    "        score = cross_validate(model, x, y, cv=5, scoring='roc_auc', return_train_score=True)\n",
    "        print('\\nroc_auc (crossval train): '+ str(round(score['train_score'].mean(),2)))\n",
    "        print('roc_auc (crossval test): '+ str(round(score['test_score'].mean(),2)))\n",
    "\n",
    "def show_feature_importance(model):\n",
    "        feat_importances = pd.Series(model.feature_importances_, index=x.columns)\n",
    "        ax = feat_importances.nlargest(25).plot(kind='barh', figsize=(10, 8))\n",
    "        ax.invert_yaxis()\n",
    "\n",
    "        plt.xlabel('score')\n",
    "        plt.ylabel('feature')\n",
    "        plt.title('feature importance score')"
   ]
  },
  {
   "cell_type": "markdown",
   "metadata": {},
   "source": [
    "### __LOGISTIC REGRESSION__"
   ]
  },
  {
   "cell_type": "markdown",
   "metadata": {},
   "source": [
    "Kami menggunakan algoritma logistik regression karena algoritma ini termasuk yang simple dan komputasinya cepat, sehingga bisa dijadikan sebagai base model untuk melihat seberapa bagus performa model"
   ]
  },
  {
   "cell_type": "code",
   "execution_count": 11,
   "metadata": {},
   "outputs": [
    {
     "name": "stdout",
     "output_type": "stream",
     "text": [
      "Accuracy (Test Set): 0.75\n",
      "Precision (Test Set): 0.36\n",
      "Recall (Test Set): 0.72\n",
      "F1-Score (Test Set): 0.48\n",
      "\n",
      "roc_auc (train-proba): 0.87\n",
      "roc_auc (test-proba): 0.80\n",
      "\n",
      "roc_auc (crossval train): 0.82\n",
      "roc_auc (crossval test): 0.81\n"
     ]
    }
   ],
   "source": [
    "from sklearn.linear_model import LogisticRegression\n",
    "\n",
    "lr = LogisticRegression(max_iter=110)\n",
    "lr.fit(X_train, y_train)\n",
    "\n",
    "eval_classification(lr)"
   ]
  },
  {
   "cell_type": "markdown",
   "metadata": {},
   "source": [
    "#### __TUNING HYPERPARAMETER__"
   ]
  },
  {
   "cell_type": "code",
   "execution_count": 12,
   "metadata": {},
   "outputs": [
    {
     "name": "stdout",
     "output_type": "stream",
     "text": [
      "Accuracy (Test Set): 0.75\n",
      "Precision (Test Set): 0.36\n",
      "Recall (Test Set): 0.72\n",
      "F1-Score (Test Set): 0.48\n",
      "\n",
      "roc_auc (train-proba): 0.87\n",
      "roc_auc (test-proba): 0.80\n",
      "\n",
      "roc_auc (crossval train): 0.82\n",
      "roc_auc (crossval test): 0.81\n"
     ]
    }
   ],
   "source": [
    "from sklearn.model_selection import RandomizedSearchCV\n",
    "import numpy as np\n",
    "\n",
    "penalty = ['l1', 'l2']\n",
    "C = [float(x) for x in np.linspace(0.0001, 1, 100)]\n",
    "\n",
    "hyperparam = {\n",
    "        'penalty':penalty,\n",
    "        'C':C\n",
    "}\n",
    "\n",
    "lr = LogisticRegression(max_iter=150)\n",
    "lr.fit(X_train, y_train)\n",
    "\n",
    "rs = RandomizedSearchCV(lr, hyperparam, cv=5, scoring='roc_auc', random_state=7, n_iter=50)\n",
    "rs.fit(X_train, y_train)\n",
    "\n",
    "eval_classification(rs)"
   ]
  },
  {
   "cell_type": "code",
   "execution_count": 13,
   "metadata": {},
   "outputs": [
    {
     "data": {
      "text/plain": [
       "{'penalty': 'l2', 'C': 0.9798}"
      ]
     },
     "execution_count": 13,
     "metadata": {},
     "output_type": "execute_result"
    }
   ],
   "source": [
    "rs.best_params_"
   ]
  },
  {
   "cell_type": "markdown",
   "metadata": {},
   "source": [
    "### __K-NEAREST NEIGBORS__"
   ]
  },
  {
   "cell_type": "markdown",
   "metadata": {},
   "source": [
    "Kami menggunakan algoritma KNN karena dataset ini bersifat non linear, walaupun KNN termasuk algoritma yg membutuhkan komputasi banyak, dataset ini hanya memiliki 2466 baris dan 20 kolom, sehingga masih tidak terlalu berat untuk digunakan"
   ]
  },
  {
   "cell_type": "code",
   "execution_count": 14,
   "metadata": {},
   "outputs": [
    {
     "name": "stdout",
     "output_type": "stream",
     "text": [
      "Accuracy (Test Set): 0.76\n",
      "Precision (Test Set): 0.35\n",
      "Recall (Test Set): 0.54\n",
      "F1-Score (Test Set): 0.42\n",
      "\n",
      "roc_auc (train-proba): 0.98\n",
      "roc_auc (test-proba): 0.72\n",
      "\n",
      "roc_auc (crossval train): 0.91\n",
      "roc_auc (crossval test): 0.7\n"
     ]
    }
   ],
   "source": [
    "from sklearn.neighbors import KNeighborsClassifier\n",
    "\n",
    "knn = KNeighborsClassifier()\n",
    "knn.fit(X_train, y_train)\n",
    "\n",
    "eval_classification(knn)"
   ]
  },
  {
   "cell_type": "markdown",
   "metadata": {},
   "source": [
    "### __DECISION TREE__"
   ]
  },
  {
   "cell_type": "code",
   "execution_count": 15,
   "metadata": {},
   "outputs": [
    {
     "name": "stdout",
     "output_type": "stream",
     "text": [
      "Accuracy (Test Set): 0.73\n",
      "Precision (Test Set): 0.30\n",
      "Recall (Test Set): 0.55\n",
      "F1-Score (Test Set): 0.39\n",
      "\n",
      "roc_auc (train-proba): 1.00\n",
      "roc_auc (test-proba): 0.65\n",
      "\n",
      "roc_auc (crossval train): 1.0\n",
      "roc_auc (crossval test): 0.63\n"
     ]
    }
   ],
   "source": [
    "from sklearn.tree import DecisionTreeClassifier\n",
    "\n",
    "dt = DecisionTreeClassifier()\n",
    "dt.fit(X_train, y_train)\n",
    "\n",
    "eval_classification(dt)"
   ]
  },
  {
   "cell_type": "markdown",
   "metadata": {},
   "source": [
    "#### __TUNING HYPERPARAMETER__"
   ]
  },
  {
   "cell_type": "markdown",
   "metadata": {},
   "source": [
    "<b>Hyperparameter yang biasa di tuning pada Decision Tree:</b> (https://scikit-learn.org/stable/modules/generated/sklearn.tree.DecisionTreeClassifier.html#sklearn.tree.DecisionTreeClassifier)\n",
    "- criterion: cara menghitung impurity pada feature (gini, entropy). melihat feature mana yang menjadi root/node\n",
    "- max_depth: maksimal kedalaman tree untuk mencegah overfitting\n",
    "- min_sample_split: berapa jumlah sample yg dibutuhkan pada node untuk membuat leaf baru (agar tidak terlalu sedikit sehingga mengakibatkan overfit)\n",
    "- min_sample_leaf: berapa jumlah sample yg dibutuhkan pada leaf agar leaf terbentuk (agar tidak terlalu sedikit sehingga mengakibatkan overfit)\n",
    "- ccp_alpha: jika cost/error dari sebuah leaf/subtree lebih besar daripada ccp_alpha, subtree tersebut akan kita hapus/prune sehingga meminimalisir error/variance dari model\n",
    "- splitter: bagaimana kita memilih feature untuk dilakukan split, dan apakah ada jumlah batasan feature yang akan di split tersebut"
   ]
  },
  {
   "cell_type": "code",
   "execution_count": 16,
   "metadata": {},
   "outputs": [
    {
     "name": "stdout",
     "output_type": "stream",
     "text": [
      "Accuracy (Test Set): 0.75\n",
      "Precision (Test Set): 0.32\n",
      "Recall (Test Set): 0.48\n",
      "F1-Score (Test Set): 0.38\n",
      "\n",
      "roc_auc (train-proba): 0.98\n",
      "roc_auc (test-proba): 0.70\n",
      "\n",
      "roc_auc (crossval train): 0.83\n",
      "roc_auc (crossval test): 0.73\n"
     ]
    }
   ],
   "source": [
    "max_depth = [int(x) for x in np.linspace(1, 110, num = 30)] # Maximum number of levels in tree\n",
    "min_samples_split = [2, 5, 10, 100] # Minimum number of samples required to split a node\n",
    "min_samples_leaf = [1, 2, 4, 10, 20, 50] # Minimum number of samples required at each leaf node\n",
    "max_features = ['auto', 'sqrt'] # Number of features to consider at every split\n",
    "criterion = ['gini','entropy']\n",
    "splitter = ['best','random']\n",
    "\n",
    "hyperparameters = dict(max_depth=max_depth, \n",
    "                       min_samples_split=min_samples_split, \n",
    "                       min_samples_leaf=min_samples_leaf,\n",
    "                       max_features=max_features,\n",
    "                       criterion=criterion,\n",
    "                       splitter=splitter\n",
    "                      )\n",
    "\n",
    "dt = DecisionTreeClassifier(random_state=7)\n",
    "rs = RandomizedSearchCV(dt, hyperparameters, cv=5, scoring='roc_auc', random_state=7, n_iter=50)\n",
    "rs.fit(X_train, y_train)\n",
    "\n",
    "eval_classification(rs)"
   ]
  },
  {
   "cell_type": "code",
   "execution_count": 17,
   "metadata": {},
   "outputs": [
    {
     "data": {
      "text/plain": [
       "{'splitter': 'best',\n",
       " 'min_samples_split': 10,\n",
       " 'min_samples_leaf': 1,\n",
       " 'max_features': 'auto',\n",
       " 'max_depth': 31,\n",
       " 'criterion': 'gini'}"
      ]
     },
     "execution_count": 17,
     "metadata": {},
     "output_type": "execute_result"
    }
   ],
   "source": [
    "rs.best_params_"
   ]
  },
  {
   "cell_type": "markdown",
   "metadata": {},
   "source": [
    "Karena hasil scorenya masih ada indikasi overfitting, maka akan coba dilakukin tuning manual dg membuat learning curve"
   ]
  },
  {
   "cell_type": "markdown",
   "metadata": {},
   "source": [
    "##### __MAX DEPTH__"
   ]
  },
  {
   "cell_type": "code",
   "execution_count": 18,
   "metadata": {},
   "outputs": [
    {
     "data": {
      "text/html": [
       "<div>\n",
       "<style scoped>\n",
       "    .dataframe tbody tr th:only-of-type {\n",
       "        vertical-align: middle;\n",
       "    }\n",
       "\n",
       "    .dataframe tbody tr th {\n",
       "        vertical-align: top;\n",
       "    }\n",
       "\n",
       "    .dataframe thead th {\n",
       "        text-align: right;\n",
       "    }\n",
       "</style>\n",
       "<table border=\"1\" class=\"dataframe\">\n",
       "  <thead>\n",
       "    <tr style=\"text-align: right;\">\n",
       "      <th></th>\n",
       "      <th>Param</th>\n",
       "      <th>Train</th>\n",
       "      <th>Test</th>\n",
       "    </tr>\n",
       "  </thead>\n",
       "  <tbody>\n",
       "    <tr>\n",
       "      <th>0</th>\n",
       "      <td>1</td>\n",
       "      <td>0.666280</td>\n",
       "      <td>0.636030</td>\n",
       "    </tr>\n",
       "    <tr>\n",
       "      <th>1</th>\n",
       "      <td>2</td>\n",
       "      <td>0.666280</td>\n",
       "      <td>0.636030</td>\n",
       "    </tr>\n",
       "    <tr>\n",
       "      <th>2</th>\n",
       "      <td>3</td>\n",
       "      <td>0.750290</td>\n",
       "      <td>0.708869</td>\n",
       "    </tr>\n",
       "    <tr>\n",
       "      <th>3</th>\n",
       "      <td>4</td>\n",
       "      <td>0.775782</td>\n",
       "      <td>0.698268</td>\n",
       "    </tr>\n",
       "    <tr>\n",
       "      <th>4</th>\n",
       "      <td>5</td>\n",
       "      <td>0.811703</td>\n",
       "      <td>0.671736</td>\n",
       "    </tr>\n",
       "    <tr>\n",
       "      <th>5</th>\n",
       "      <td>6</td>\n",
       "      <td>0.849363</td>\n",
       "      <td>0.632261</td>\n",
       "    </tr>\n",
       "    <tr>\n",
       "      <th>6</th>\n",
       "      <td>7</td>\n",
       "      <td>0.877173</td>\n",
       "      <td>0.663057</td>\n",
       "    </tr>\n",
       "    <tr>\n",
       "      <th>7</th>\n",
       "      <td>8</td>\n",
       "      <td>0.910776</td>\n",
       "      <td>0.673868</td>\n",
       "    </tr>\n",
       "    <tr>\n",
       "      <th>8</th>\n",
       "      <td>9</td>\n",
       "      <td>0.942642</td>\n",
       "      <td>0.678987</td>\n",
       "    </tr>\n",
       "    <tr>\n",
       "      <th>9</th>\n",
       "      <td>10</td>\n",
       "      <td>0.960603</td>\n",
       "      <td>0.643776</td>\n",
       "    </tr>\n",
       "    <tr>\n",
       "      <th>10</th>\n",
       "      <td>11</td>\n",
       "      <td>0.975666</td>\n",
       "      <td>0.687381</td>\n",
       "    </tr>\n",
       "    <tr>\n",
       "      <th>11</th>\n",
       "      <td>12</td>\n",
       "      <td>0.984936</td>\n",
       "      <td>0.663552</td>\n",
       "    </tr>\n",
       "  </tbody>\n",
       "</table>\n",
       "</div>"
      ],
      "text/plain": [
       "    Param     Train      Test\n",
       "0       1  0.666280  0.636030\n",
       "1       2  0.666280  0.636030\n",
       "2       3  0.750290  0.708869\n",
       "3       4  0.775782  0.698268\n",
       "4       5  0.811703  0.671736\n",
       "5       6  0.849363  0.632261\n",
       "6       7  0.877173  0.663057\n",
       "7       8  0.910776  0.673868\n",
       "8       9  0.942642  0.678987\n",
       "9      10  0.960603  0.643776\n",
       "10     11  0.975666  0.687381\n",
       "11     12  0.984936  0.663552"
      ]
     },
     "execution_count": 18,
     "metadata": {},
     "output_type": "execute_result"
    },
    {
     "data": {
      "image/png": "[encoded data removed]",
      "text/plain": [
       "<Figure size 500x500 with 1 Axes>"
      ]
     },
     "metadata": {},
     "output_type": "display_data"
    }
   ],
   "source": [
    "max_depth = [int(x) for x in np.linspace(1, 12, num = 12)]\n",
    "train,test, param = [],[],[]\n",
    "\n",
    "for i in max_depth:\n",
    "        dt  = DecisionTreeClassifier(random_state=7, max_depth=i)\n",
    "        dt.fit(X_train, y_train)\n",
    "\n",
    "        #train\n",
    "        train_score = roc_auc_score(y_train, dt.predict(X_train))\n",
    "        train.append(train_score)\n",
    "\n",
    "        #test\n",
    "        test_score = roc_auc_score(y_test, dt.predict(X_test))\n",
    "        test.append(test_score)\n",
    "\n",
    "        param.append(i)\n",
    "\n",
    "#buat visualisasi        \n",
    "plt.figure(figsize=(5,5))\n",
    "sns.lineplot(x=param, y=train, label='Train')\n",
    "sns.lineplot(x=param, y=test, label='Test')\n",
    "\n",
    "pd.DataFrame({\n",
    "        'Param':param,\n",
    "        'Train':train,\n",
    "        'Test':test\n",
    "})\n",
    "\n"
   ]
  },
  {
   "cell_type": "markdown",
   "metadata": {},
   "source": [
    "Max depth paling optimal adalah 3"
   ]
  },
  {
   "cell_type": "markdown",
   "metadata": {},
   "source": [
    "##### __MIN SAMPLE SPLIT__"
   ]
  },
  {
   "cell_type": "code",
   "execution_count": 19,
   "metadata": {},
   "outputs": [
    {
     "data": {
      "text/html": [
       "<div>\n",
       "<style scoped>\n",
       "    .dataframe tbody tr th:only-of-type {\n",
       "        vertical-align: middle;\n",
       "    }\n",
       "\n",
       "    .dataframe tbody tr th {\n",
       "        vertical-align: top;\n",
       "    }\n",
       "\n",
       "    .dataframe thead th {\n",
       "        text-align: right;\n",
       "    }\n",
       "</style>\n",
       "<table border=\"1\" class=\"dataframe\">\n",
       "  <thead>\n",
       "    <tr style=\"text-align: right;\">\n",
       "      <th></th>\n",
       "      <th>Param</th>\n",
       "      <th>Train</th>\n",
       "      <th>Test</th>\n",
       "    </tr>\n",
       "  </thead>\n",
       "  <tbody>\n",
       "    <tr>\n",
       "      <th>0</th>\n",
       "      <td>10</td>\n",
       "      <td>0.75029</td>\n",
       "      <td>0.708869</td>\n",
       "    </tr>\n",
       "    <tr>\n",
       "      <th>1</th>\n",
       "      <td>11</td>\n",
       "      <td>0.75029</td>\n",
       "      <td>0.708869</td>\n",
       "    </tr>\n",
       "    <tr>\n",
       "      <th>2</th>\n",
       "      <td>12</td>\n",
       "      <td>0.75029</td>\n",
       "      <td>0.708869</td>\n",
       "    </tr>\n",
       "    <tr>\n",
       "      <th>3</th>\n",
       "      <td>13</td>\n",
       "      <td>0.75029</td>\n",
       "      <td>0.708869</td>\n",
       "    </tr>\n",
       "    <tr>\n",
       "      <th>4</th>\n",
       "      <td>14</td>\n",
       "      <td>0.75029</td>\n",
       "      <td>0.708869</td>\n",
       "    </tr>\n",
       "    <tr>\n",
       "      <th>5</th>\n",
       "      <td>15</td>\n",
       "      <td>0.75029</td>\n",
       "      <td>0.708869</td>\n",
       "    </tr>\n",
       "    <tr>\n",
       "      <th>6</th>\n",
       "      <td>16</td>\n",
       "      <td>0.75029</td>\n",
       "      <td>0.708869</td>\n",
       "    </tr>\n",
       "    <tr>\n",
       "      <th>7</th>\n",
       "      <td>17</td>\n",
       "      <td>0.75029</td>\n",
       "      <td>0.708869</td>\n",
       "    </tr>\n",
       "    <tr>\n",
       "      <th>8</th>\n",
       "      <td>18</td>\n",
       "      <td>0.75029</td>\n",
       "      <td>0.708869</td>\n",
       "    </tr>\n",
       "    <tr>\n",
       "      <th>9</th>\n",
       "      <td>19</td>\n",
       "      <td>0.75029</td>\n",
       "      <td>0.708869</td>\n",
       "    </tr>\n",
       "    <tr>\n",
       "      <th>10</th>\n",
       "      <td>20</td>\n",
       "      <td>0.75029</td>\n",
       "      <td>0.708869</td>\n",
       "    </tr>\n",
       "    <tr>\n",
       "      <th>11</th>\n",
       "      <td>21</td>\n",
       "      <td>0.75029</td>\n",
       "      <td>0.708869</td>\n",
       "    </tr>\n",
       "    <tr>\n",
       "      <th>12</th>\n",
       "      <td>22</td>\n",
       "      <td>0.75029</td>\n",
       "      <td>0.708869</td>\n",
       "    </tr>\n",
       "    <tr>\n",
       "      <th>13</th>\n",
       "      <td>23</td>\n",
       "      <td>0.75029</td>\n",
       "      <td>0.708869</td>\n",
       "    </tr>\n",
       "    <tr>\n",
       "      <th>14</th>\n",
       "      <td>24</td>\n",
       "      <td>0.75029</td>\n",
       "      <td>0.708869</td>\n",
       "    </tr>\n",
       "    <tr>\n",
       "      <th>15</th>\n",
       "      <td>25</td>\n",
       "      <td>0.75029</td>\n",
       "      <td>0.708869</td>\n",
       "    </tr>\n",
       "    <tr>\n",
       "      <th>16</th>\n",
       "      <td>26</td>\n",
       "      <td>0.75029</td>\n",
       "      <td>0.708869</td>\n",
       "    </tr>\n",
       "    <tr>\n",
       "      <th>17</th>\n",
       "      <td>27</td>\n",
       "      <td>0.75029</td>\n",
       "      <td>0.708869</td>\n",
       "    </tr>\n",
       "    <tr>\n",
       "      <th>18</th>\n",
       "      <td>28</td>\n",
       "      <td>0.75029</td>\n",
       "      <td>0.708869</td>\n",
       "    </tr>\n",
       "    <tr>\n",
       "      <th>19</th>\n",
       "      <td>30</td>\n",
       "      <td>0.75029</td>\n",
       "      <td>0.708869</td>\n",
       "    </tr>\n",
       "  </tbody>\n",
       "</table>\n",
       "</div>"
      ],
      "text/plain": [
       "    Param    Train      Test\n",
       "0      10  0.75029  0.708869\n",
       "1      11  0.75029  0.708869\n",
       "2      12  0.75029  0.708869\n",
       "3      13  0.75029  0.708869\n",
       "4      14  0.75029  0.708869\n",
       "5      15  0.75029  0.708869\n",
       "6      16  0.75029  0.708869\n",
       "7      17  0.75029  0.708869\n",
       "8      18  0.75029  0.708869\n",
       "9      19  0.75029  0.708869\n",
       "10     20  0.75029  0.708869\n",
       "11     21  0.75029  0.708869\n",
       "12     22  0.75029  0.708869\n",
       "13     23  0.75029  0.708869\n",
       "14     24  0.75029  0.708869\n",
       "15     25  0.75029  0.708869\n",
       "16     26  0.75029  0.708869\n",
       "17     27  0.75029  0.708869\n",
       "18     28  0.75029  0.708869\n",
       "19     30  0.75029  0.708869"
      ]
     },
     "execution_count": 19,
     "metadata": {},
     "output_type": "execute_result"
    },
    {
     "data": {
      "image/png": "[encoded data removed]",
      "text/plain": [
       "<Figure size 500x500 with 1 Axes>"
      ]
     },
     "metadata": {},
     "output_type": "display_data"
    }
   ],
   "source": [
    "min_samples_split = [int(x) for x in np.linspace(10, 30, num = 20)]\n",
    "\n",
    "train,test, param = [],[],[]\n",
    "\n",
    "for i in min_samples_split:\n",
    "        dt  = DecisionTreeClassifier(random_state=7, max_depth=3, min_samples_split=i)\n",
    "        dt.fit(X_train, y_train)\n",
    "\n",
    "        #train\n",
    "        train_score = roc_auc_score(y_train, dt.predict(X_train))\n",
    "        train.append(train_score)\n",
    "\n",
    "        #test\n",
    "        test_score = roc_auc_score(y_test, dt.predict(X_test))\n",
    "        test.append(test_score)\n",
    "\n",
    "        param.append(i)\n",
    "\n",
    "#buat visualisasi        \n",
    "plt.figure(figsize=(5,5))\n",
    "sns.lineplot(x=param, y=train, label='Train')\n",
    "sns.lineplot(x=param, y=test, label='Test')\n",
    "\n",
    "pd.DataFrame({\n",
    "        'Param':param,\n",
    "        'Train':train,\n",
    "        'Test':test\n",
    "})\n"
   ]
  },
  {
   "cell_type": "markdown",
   "metadata": {},
   "source": [
    "Min Sample Split yang optimal adalah 21"
   ]
  },
  {
   "cell_type": "markdown",
   "metadata": {},
   "source": [
    "##### __MIN SAMPLES LEAF__"
   ]
  },
  {
   "cell_type": "code",
   "execution_count": 20,
   "metadata": {},
   "outputs": [
    {
     "data": {
      "text/html": [
       "<div>\n",
       "<style scoped>\n",
       "    .dataframe tbody tr th:only-of-type {\n",
       "        vertical-align: middle;\n",
       "    }\n",
       "\n",
       "    .dataframe tbody tr th {\n",
       "        vertical-align: top;\n",
       "    }\n",
       "\n",
       "    .dataframe thead th {\n",
       "        text-align: right;\n",
       "    }\n",
       "</style>\n",
       "<table border=\"1\" class=\"dataframe\">\n",
       "  <thead>\n",
       "    <tr style=\"text-align: right;\">\n",
       "      <th></th>\n",
       "      <th>Param</th>\n",
       "      <th>Train</th>\n",
       "      <th>Test</th>\n",
       "    </tr>\n",
       "  </thead>\n",
       "  <tbody>\n",
       "    <tr>\n",
       "      <th>0</th>\n",
       "      <td>20</td>\n",
       "      <td>0.825608</td>\n",
       "      <td>0.668748</td>\n",
       "    </tr>\n",
       "    <tr>\n",
       "      <th>1</th>\n",
       "      <td>21</td>\n",
       "      <td>0.822132</td>\n",
       "      <td>0.674153</td>\n",
       "    </tr>\n",
       "    <tr>\n",
       "      <th>2</th>\n",
       "      <td>22</td>\n",
       "      <td>0.819815</td>\n",
       "      <td>0.676856</td>\n",
       "    </tr>\n",
       "    <tr>\n",
       "      <th>3</th>\n",
       "      <td>23</td>\n",
       "      <td>0.816918</td>\n",
       "      <td>0.669813</td>\n",
       "    </tr>\n",
       "    <tr>\n",
       "      <th>4</th>\n",
       "      <td>25</td>\n",
       "      <td>0.814600</td>\n",
       "      <td>0.657080</td>\n",
       "    </tr>\n",
       "  </tbody>\n",
       "</table>\n",
       "</div>"
      ],
      "text/plain": [
       "   Param     Train      Test\n",
       "0     20  0.825608  0.668748\n",
       "1     21  0.822132  0.674153\n",
       "2     22  0.819815  0.676856\n",
       "3     23  0.816918  0.669813\n",
       "4     25  0.814600  0.657080"
      ]
     },
     "execution_count": 20,
     "metadata": {},
     "output_type": "execute_result"
    },
    {
     "data": {
      "image/png": "[encoded data removed]",
      "text/plain": [
       "<Figure size 500x500 with 1 Axes>"
      ]
     },
     "metadata": {},
     "output_type": "display_data"
    }
   ],
   "source": [
    "min_samples_leaf = [int(x) for x in np.linspace(20, 25, num = 5)]\n",
    "\n",
    "train,test, param = [],[],[]\n",
    "\n",
    "for i in min_samples_leaf:\n",
    "        dt  = DecisionTreeClassifier(random_state=7, max_depth=6, min_samples_split=21, min_samples_leaf=i)\n",
    "        dt.fit(X_train, y_train)\n",
    "\n",
    "        #train\n",
    "        train_score = roc_auc_score(y_train, dt.predict(X_train))\n",
    "        train.append(train_score)\n",
    "\n",
    "        #test\n",
    "        test_score = roc_auc_score(y_test, dt.predict(X_test))\n",
    "        test.append(test_score)\n",
    "\n",
    "        param.append(i)\n",
    "\n",
    "#buat visualisasi        \n",
    "plt.figure(figsize=(5,5))\n",
    "sns.lineplot(x=param, y=train, label='Train')\n",
    "sns.lineplot(x=param, y=test, label='Test')\n",
    "\n",
    "pd.DataFrame({\n",
    "        'Param':param,\n",
    "        'Train':train,\n",
    "        'Test':test\n",
    "})\n"
   ]
  },
  {
   "cell_type": "markdown",
   "metadata": {},
   "source": [
    "Min Sample Leaf yang paling Optimal adalah 22"
   ]
  },
  {
   "cell_type": "markdown",
   "metadata": {},
   "source": [
    "##### __CRITERION__"
   ]
  },
  {
   "cell_type": "code",
   "execution_count": 21,
   "metadata": {},
   "outputs": [
    {
     "data": {
      "text/html": [
       "<div>\n",
       "<style scoped>\n",
       "    .dataframe tbody tr th:only-of-type {\n",
       "        vertical-align: middle;\n",
       "    }\n",
       "\n",
       "    .dataframe tbody tr th {\n",
       "        vertical-align: top;\n",
       "    }\n",
       "\n",
       "    .dataframe thead th {\n",
       "        text-align: right;\n",
       "    }\n",
       "</style>\n",
       "<table border=\"1\" class=\"dataframe\">\n",
       "  <thead>\n",
       "    <tr style=\"text-align: right;\">\n",
       "      <th></th>\n",
       "      <th>Param</th>\n",
       "      <th>Train</th>\n",
       "      <th>Test</th>\n",
       "    </tr>\n",
       "  </thead>\n",
       "  <tbody>\n",
       "    <tr>\n",
       "      <th>0</th>\n",
       "      <td>gini</td>\n",
       "      <td>0.819815</td>\n",
       "      <td>0.676856</td>\n",
       "    </tr>\n",
       "    <tr>\n",
       "      <th>1</th>\n",
       "      <td>entropy</td>\n",
       "      <td>0.814021</td>\n",
       "      <td>0.699829</td>\n",
       "    </tr>\n",
       "  </tbody>\n",
       "</table>\n",
       "</div>"
      ],
      "text/plain": [
       "     Param     Train      Test\n",
       "0     gini  0.819815  0.676856\n",
       "1  entropy  0.814021  0.699829"
      ]
     },
     "execution_count": 21,
     "metadata": {},
     "output_type": "execute_result"
    },
    {
     "data": {
      "image/png": "[encoded data removed]",
      "text/plain": [
       "<Figure size 500x500 with 1 Axes>"
      ]
     },
     "metadata": {},
     "output_type": "display_data"
    }
   ],
   "source": [
    "criterion = ['gini','entropy']\n",
    "\n",
    "train,test, param = [],[],[]\n",
    "\n",
    "for i in criterion:\n",
    "        dt  = DecisionTreeClassifier(random_state=7, max_depth=6, min_samples_split=21, min_samples_leaf=22, criterion=i)\n",
    "        dt.fit(X_train, y_train)\n",
    "\n",
    "        #train\n",
    "        train_score = roc_auc_score(y_train, dt.predict(X_train))\n",
    "        train.append(train_score)\n",
    "\n",
    "        #test\n",
    "        test_score = roc_auc_score(y_test, dt.predict(X_test))\n",
    "        test.append(test_score)\n",
    "\n",
    "        param.append(i)\n",
    "\n",
    "#buat visualisasi        \n",
    "plt.figure(figsize=(5,5))\n",
    "sns.lineplot(x=param, y=train, label='Train')\n",
    "sns.lineplot(x=param, y=test, label='Test')\n",
    "\n",
    "pd.DataFrame({\n",
    "        'Param':param,\n",
    "        'Train':train,\n",
    "        'Test':test\n",
    "})\n"
   ]
  },
  {
   "cell_type": "markdown",
   "metadata": {},
   "source": [
    "Criterion Optimal adalah gini"
   ]
  },
  {
   "cell_type": "code",
   "execution_count": 22,
   "metadata": {},
   "outputs": [
    {
     "data": {
      "text/html": [
       "<div>\n",
       "<style scoped>\n",
       "    .dataframe tbody tr th:only-of-type {\n",
       "        vertical-align: middle;\n",
       "    }\n",
       "\n",
       "    .dataframe tbody tr th {\n",
       "        vertical-align: top;\n",
       "    }\n",
       "\n",
       "    .dataframe thead th {\n",
       "        text-align: right;\n",
       "    }\n",
       "</style>\n",
       "<table border=\"1\" class=\"dataframe\">\n",
       "  <thead>\n",
       "    <tr style=\"text-align: right;\">\n",
       "      <th></th>\n",
       "      <th>Param</th>\n",
       "      <th>Train</th>\n",
       "      <th>Test</th>\n",
       "    </tr>\n",
       "  </thead>\n",
       "  <tbody>\n",
       "    <tr>\n",
       "      <th>0</th>\n",
       "      <td>best</td>\n",
       "      <td>0.811124</td>\n",
       "      <td>0.692786</td>\n",
       "    </tr>\n",
       "    <tr>\n",
       "      <th>1</th>\n",
       "      <td>random</td>\n",
       "      <td>0.780417</td>\n",
       "      <td>0.682052</td>\n",
       "    </tr>\n",
       "  </tbody>\n",
       "</table>\n",
       "</div>"
      ],
      "text/plain": [
       "    Param     Train      Test\n",
       "0    best  0.811124  0.692786\n",
       "1  random  0.780417  0.682052"
      ]
     },
     "execution_count": 22,
     "metadata": {},
     "output_type": "execute_result"
    },
    {
     "data": {
      "image/png": "[encoded data removed]",
      "text/plain": [
       "<Figure size 500x500 with 1 Axes>"
      ]
     },
     "metadata": {},
     "output_type": "display_data"
    }
   ],
   "source": [
    "splitter = ['best','random']\n",
    "\n",
    "train,test, param = [],[],[]\n",
    "\n",
    "for i in splitter:\n",
    "        dt  = DecisionTreeClassifier(random_state=7, max_depth=6, min_samples_split=21, min_samples_leaf=23, criterion='entropy', splitter=i)\n",
    "        dt.fit(X_train, y_train)\n",
    "\n",
    "        #train\n",
    "        train_score = roc_auc_score(y_train, dt.predict(X_train))\n",
    "        train.append(train_score)\n",
    "\n",
    "        #test\n",
    "        test_score = roc_auc_score(y_test, dt.predict(X_test))\n",
    "        test.append(test_score)\n",
    "\n",
    "        param.append(i)\n",
    "\n",
    "#buat visualisasi        \n",
    "plt.figure(figsize=(5,5))\n",
    "sns.lineplot(x=param, y=train, label='Train')\n",
    "sns.lineplot(x=param, y=test, label='Test')\n",
    "\n",
    "pd.DataFrame({\n",
    "        'Param':param,\n",
    "        'Train':train,\n",
    "        'Test':test\n",
    "})\n"
   ]
  },
  {
   "cell_type": "markdown",
   "metadata": {},
   "source": [
    "Splitter optimal adalah best"
   ]
  },
  {
   "cell_type": "markdown",
   "metadata": {},
   "source": [
    "##### __FINAL MODE DECISION TREEL__"
   ]
  },
  {
   "cell_type": "code",
   "execution_count": 23,
   "metadata": {},
   "outputs": [
    {
     "name": "stdout",
     "output_type": "stream",
     "text": [
      "Accuracy (Test Set): 0.70\n",
      "Precision (Test Set): 0.31\n",
      "Recall (Test Set): 0.70\n",
      "F1-Score (Test Set): 0.43\n",
      "\n",
      "roc_auc (train-proba): 0.80\n",
      "roc_auc (test-proba): 0.74\n",
      "\n",
      "roc_auc (crossval train): 0.78\n",
      "roc_auc (crossval test): 0.73\n"
     ]
    }
   ],
   "source": [
    "dt  = DecisionTreeClassifier(random_state=7, max_depth=3, min_samples_split=20, min_samples_leaf=22, criterion='entropy', splitter='best')\n",
    "dt.fit(X_train, y_train)\n",
    "\n",
    "eval_classification(dt)"
   ]
  },
  {
   "cell_type": "markdown",
   "metadata": {},
   "source": [
    "### __RANDOM FOREST__"
   ]
  },
  {
   "cell_type": "code",
   "execution_count": 24,
   "metadata": {},
   "outputs": [
    {
     "name": "stdout",
     "output_type": "stream",
     "text": [
      "Accuracy (Test Set): 0.84\n",
      "Precision (Test Set): 0.50\n",
      "Recall (Test Set): 0.48\n",
      "F1-Score (Test Set): 0.49\n",
      "\n",
      "roc_auc (train-proba): 1.00\n",
      "roc_auc (test-proba): 0.79\n",
      "\n",
      "roc_auc (crossval train): 1.0\n",
      "roc_auc (crossval test): 0.8\n"
     ]
    }
   ],
   "source": [
    "from sklearn.ensemble import RandomForestClassifier\n",
    "\n",
    "rf = RandomForestClassifier(random_state=7)\n",
    "rf.fit(X_train, y_train)\n",
    "\n",
    "eval_classification(rf)"
   ]
  },
  {
   "cell_type": "markdown",
   "metadata": {},
   "source": [
    "#### __TUNING HYPERPARAMETER__"
   ]
  },
  {
   "cell_type": "markdown",
   "metadata": {},
   "source": [
    "<b>Hyperparameter yang biasa di tuning pada Random Forest:</b> (<a href='https://scikit-learn.org/stable/modules/generated/sklearn.ensemble.RandomForestClassifier.html'>Dokumentasi Sklearn Random Forest</a>)\n",
    "- n_estimators: jumlah subtree yang akan dibangun\n",
    "- max_samples: Jumlah maksimal sampel pada masing-masing training subset (setelah proses bootstrap)\n",
    "\n",
    "Sisa hyperparameter lainnya sama dengan Decision Tree, yaitu:\n",
    "- criterion: cara menghitung impurity pada feature (gini, entropy). melihat feature mana yang menjadi root/node\n",
    "- max_depth: maksimal kedalaman tree untuk mencegah overfitting\n",
    "- min_sample_split: berapa jumlah sample yg dibutuhkan pada node untuk membuat leaf baru (agar tidak terlalu sedikit sehingga mengakibatkan overfit)\n",
    "- min_sample_leaf: berapa jumlah sample yg dibutuhkan pada leaf agar leaf terbentuk (agar tidak terlalu sedikit sehingga mengakibatkan overfit)\n"
   ]
  },
  {
   "cell_type": "code",
   "execution_count": 25,
   "metadata": {},
   "outputs": [
    {
     "name": "stdout",
     "output_type": "stream",
     "text": [
      "Accuracy (Test Set): 0.83\n",
      "Precision (Test Set): 0.47\n",
      "Recall (Test Set): 0.58\n",
      "F1-Score (Test Set): 0.52\n",
      "\n",
      "roc_auc (train-proba): 0.98\n",
      "roc_auc (test-proba): 0.81\n",
      "\n",
      "roc_auc (crossval train): 0.94\n",
      "roc_auc (crossval test): 0.82\n"
     ]
    }
   ],
   "source": [
    "n_estimators = [int(x) for x in np.linspace(1, 200, 50)]\n",
    "criterion = ['gini', 'entropy']\n",
    "max_depth = [int(x) for x in np.linspace(2, 100, 50)]\n",
    "min_samples_split = [int(x) for x in np.linspace(2, 20, 10)]\n",
    "min_samples_leaf = [int(x) for x in np.linspace(2, 20, 10)]\n",
    "hyperparameters = dict(n_estimators=n_estimators, criterion=criterion, max_depth=max_depth,\n",
    "                       min_samples_split=min_samples_split, min_samples_leaf=min_samples_leaf)\n",
    "\n",
    "rf = RandomForestClassifier(random_state=7)\n",
    "\n",
    "rs = RandomizedSearchCV(rf, hyperparameters, scoring='roc_auc', random_state=1, cv=5)\n",
    "\n",
    "rs.fit(X_train, y_train)\n",
    "\n",
    "eval_classification(rs)"
   ]
  },
  {
   "cell_type": "code",
   "execution_count": 26,
   "metadata": {},
   "outputs": [
    {
     "data": {
      "text/plain": [
       "{'n_estimators': 98,\n",
       " 'min_samples_split': 18,\n",
       " 'min_samples_leaf': 4,\n",
       " 'max_depth': 90,\n",
       " 'criterion': 'entropy'}"
      ]
     },
     "execution_count": 26,
     "metadata": {},
     "output_type": "execute_result"
    }
   ],
   "source": [
    "rs.best_params_"
   ]
  },
  {
   "cell_type": "markdown",
   "metadata": {},
   "source": [
    "### __ADA BOOST__"
   ]
  },
  {
   "cell_type": "code",
   "execution_count": 27,
   "metadata": {},
   "outputs": [
    {
     "name": "stdout",
     "output_type": "stream",
     "text": [
      "Accuracy (Test Set): 0.78\n",
      "Precision (Test Set): 0.39\n",
      "Recall (Test Set): 0.66\n",
      "F1-Score (Test Set): 0.49\n",
      "\n",
      "roc_auc (train-proba): 0.91\n",
      "roc_auc (test-proba): 0.83\n",
      "\n",
      "roc_auc (crossval train): 0.89\n",
      "roc_auc (crossval test): 0.81\n"
     ]
    }
   ],
   "source": [
    "from sklearn.ensemble import AdaBoostClassifier\n",
    "\n",
    "ada = AdaBoostClassifier()\n",
    "ada.fit(X_train, y_train)\n",
    "\n",
    "eval_classification(ada)"
   ]
  },
  {
   "cell_type": "markdown",
   "metadata": {},
   "source": [
    "### __XGBOOST__"
   ]
  },
  {
   "cell_type": "code",
   "execution_count": 28,
   "metadata": {},
   "outputs": [
    {
     "name": "stdout",
     "output_type": "stream",
     "text": [
      "Accuracy (Test Set): 0.85\n",
      "Precision (Test Set): 0.55\n",
      "Recall (Test Set): 0.44\n",
      "F1-Score (Test Set): 0.49\n",
      "\n",
      "roc_auc (train-proba): 1.00\n",
      "roc_auc (test-proba): 0.80\n",
      "\n",
      "roc_auc (crossval train): 1.0\n",
      "roc_auc (crossval test): 0.81\n"
     ]
    }
   ],
   "source": [
    "from xgboost import XGBClassifier\n",
    "\n",
    "xg = XGBClassifier()\n",
    "xg.fit(X_train, y_train)\n",
    "\n",
    "eval_classification(xg)"
   ]
  },
  {
   "cell_type": "markdown",
   "metadata": {},
   "source": [
    "#### __TUNING HYPERPARAMETER__"
   ]
  },
  {
   "cell_type": "markdown",
   "metadata": {},
   "source": [
    "<b>Hyperparameter yang umum di tuning pada XGBoost:</b> (<a href='https://xgboost.readthedocs.io/en/latest/parameter.html'>Dokumentasi XGBoost</a>)\n",
    "- <b>Terkait arsitektur tree</b>:\n",
    "    - max_depth: maksimal kedalaman tree untuk mencegah overfitting\n",
    "    - min_child_weight: minimum weight (atau jumlah sample; jika total weightnya=1) yang dimiliki oleh node untuk membuat leaf baru (agar tidak terlalu sedikit sehingga mengakibatkan overfit)\n",
    "    - gamma: minimum loss/error reduction yang diatur untuk membuat sebuah leaf baru\n",
    "    - tree_method: bagaimana metode xgboost untuk membangun sebuah treenya. algoritma yang kita pelajari tree_method = exact. Referensi lain dapat dilihat <a href='https://xgboost.readthedocs.io/en/latest/treemethod.html'>disini</a>.\n",
    "\n",
    "- <b>Terkait subsampling pada proses boosting</b>. Daripada menggunakan keseluruhan data train setiap iterasinya, kita dapat menggunakan sample pada setiap iterasinya/\n",
    "    - subsample: berapa banyak baris sample yang digunakan untuk sampling di setiap stepnya. 1 untuk semua baris.\n",
    "    - colsample_bytree: berapa banyak faeture yang digunakan. 1 untuk semua feature\n",
    "\n",
    "- <b>Terkait control learning rate</b>:\n",
    "    - eta: step size untuk update weight feature pada xgboost, range value: 0-1. semakin kecil eta, semakin detail perbaikannya, namun butuh lebih banyak iterasi dari boosting. \n",
    "        - di sklearn, nama hyperparameternya adalah learning_rate.\n",
    "    \n",
    "- <b>Regularization pada XGBoost</b>:\n",
    "    - lambda: koefisien regularisasi pada L2 norm\n",
    "    - alpha: koefisien regularisasi pada L1 norm\n",
    "\n",
    "- <b>Terkait learning task XGBoost</b>:\n",
    "    - objective: fungsi objective yang digunakan, seperti menghitung error pada regression\n",
    "    - eval_metric: metrics evaluasi yang akan digunakan pada data validation (i.e. rmse, mae, auc)\n",
    "    - seed: random state\n",
    "\n",
    "- <b>Lainnya</b>:\n",
    "    - scale_pos_weight: jika data imbalance, parameter ini digunakan untuk mengatur bobot dari masing-masing label.\n",
    "    \n",
    "- <b>Parameter lain yang untuk pengecekan dan debug model</b>:\n",
    "    - verbose: untuk menampilkan detail log dari training model. 0: tidak menampilkan pesan apapun; 1: menampilkan jika ada warning saja; 2: menampilkan info (akan deprecated, contohnya); 3: debug: detail training dari model"
   ]
  },
  {
   "cell_type": "code",
   "execution_count": 29,
   "metadata": {},
   "outputs": [
    {
     "name": "stdout",
     "output_type": "stream",
     "text": [
      "Accuracy (Test Set): 0.85\n",
      "Precision (Test Set): 0.54\n",
      "Recall (Test Set): 0.48\n",
      "F1-Score (Test Set): 0.51\n",
      "\n",
      "roc_auc (train-proba): 1.00\n",
      "roc_auc (test-proba): 0.82\n",
      "\n",
      "roc_auc (crossval train): 0.89\n",
      "roc_auc (crossval test): 0.82\n"
     ]
    }
   ],
   "source": [
    "hyperparameters = {\n",
    "                    'max_depth' : [int(x) for x in np.linspace(10, 110, num = 11)],\n",
    "                    'min_child_weight' : [int(x) for x in np.linspace(1, 20, num = 11)],\n",
    "                    'gamma' : [float(x) for x in np.linspace(0, 1, num = 11)],\n",
    "                    'tree_method' : ['auto', 'exact', 'approx', 'hist'],\n",
    "\n",
    "                    'colsample_bytree' : [float(x) for x in np.linspace(0, 1, num = 11)],\n",
    "                    'eta' : [float(x) for x in np.linspace(0, 1, num = 100)],\n",
    "\n",
    "                    'lambda' : [float(x) for x in np.linspace(0, 1, num = 11)],\n",
    "                    'alpha' : [float(x) for x in np.linspace(0, 1, num = 11)]\n",
    "                    }\n",
    "\n",
    "xg = XGBClassifier(random_state=7)\n",
    "\n",
    "rs = RandomizedSearchCV(xg, hyperparameters, cv=5, random_state=7, scoring='roc_auc')\n",
    "rs.fit(X_train, y_train)\n",
    "\n",
    "eval_classification(rs)"
   ]
  },
  {
   "cell_type": "code",
   "execution_count": null,
   "metadata": {},
   "outputs": [],
   "source": []
  }
 ],
 "metadata": {
  "kernelspec": {
   "display_name": "Python 3.10.5 64-bit",
   "language": "python",
   "name": "python3"
  },
  "language_info": {
   "codemirror_mode": {
    "name": "ipython",
    "version": 3
   },
   "file_extension": ".py",
   "mimetype": "text/x-python",
   "name": "python",
   "nbconvert_exporter": "python",
   "pygments_lexer": "ipython3",
   "version": "3.10.5"
  },
  "orig_nbformat": 4,
  "vscode": {
   "interpreter": {
    "hash": "7991611f1204b27f6cfa489e0663365e0a74444b4c5d959170e0f3700bb91e72"
   }
  }
 },
 "nbformat": 4,
 "nbformat_minor": 2
}
