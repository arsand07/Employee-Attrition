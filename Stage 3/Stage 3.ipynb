{
 "cells": [
  {
   "cell_type": "markdown",
   "metadata": {},
   "source": [
    "| Kolom                    | Interpretasi                                  |\n",
    "| ------------------------ | --------------------------------------------- |\n",
    "| Age                      | Usia                                          |\n",
    "| Attrition                | Tidak bekerja lagi                            |\n",
    "| BusinessTravel           | Frekuensi bepergian (travelling)              |\n",
    "| DailyRate                | Upah harian                                   |\n",
    "| Department               | Departmen pada pekerjaan                      |\n",
    "| DistanceFromHome         | Jarak dari rumah ke tempat kerja (KM)         |\n",
    "| Education                |  1 'Below College' 2 'College' 3 'Bachelor' 4 'Master' 5 'Doctor' |\n",
    "| EducationField           | Bidang pendidikan                             |\n",
    "| EmployeeCount            |                                               |\n",
    "| EmployeeNumber           |                                               |\n",
    "| EnvironmentSatisfaction  | Kepuasan terhadap lingkungan kerja => 1 'Low' 2 'Medium' 3 'High' 4 'Very High'            |\n",
    "| Gender                   | Jenis kelamin                                 |\n",
    "| HourlyRate               | Upah perjam                                   |\n",
    "| JobInvolvement           | Tingkat keterlibatan kerja => 1 'Low' 2 'Medium' 3 'High' 4 'Very High'                   |\n",
    "| JobLevel                 | Level kesulitan pekerjaan                     |\n",
    "| JobRole                  | Posisi Pekerjaan                              |\n",
    "| JobSatisfaction          | Kepuasan terhadap pekerjaan => 1 'Low' 2 'Medium' 3 'High' 4 'Very High'                  |\n",
    "| MaritalStatus            | Status Perkawinan                             |\n",
    "| MonthlyIncome            | Income Bulanan                                |\n",
    "| MonthlyRate              | Upah Bulanan                                  |\n",
    "| NumCompaniesWorked       | Banyaknya perusahaan tempat bekerja           |\n",
    "| Over18                   | Apakah usianya > 18?                          |\n",
    "| OverTime                 | Apakah jam kerja overtime?                    |\n",
    "| PercentSalaryHike        | Persentase kenaikan gaji                      |\n",
    "| PerformanceRating        | Rating performa kerja  => 1 'Low' 2 'Good' 3 'Excellent' 4 'Outstanding'                       |\n",
    "| RelationshipSatisfaction | Kepuasan terhadap relasi di tempat kerja => 1 'Low' 2 'Medium' 3 'High' 4 'Very High'      |\n",
    "| StandardHours            | Standard jam kerja                            |\n",
    "| StockOptionLevel         |                                               |\n",
    "| TotalWorkingYears        | Lama bekerja (Tahun)                          |\n",
    "| TrainingTimesLastYear    | Jumlah training tahun kemarin                 |\n",
    "| WorkLifeBalance          | Keseimbangan kerja => 1 'Bad' 2 'Good' 3 'Better' 4 'Best'                           |\n",
    "| YearsAtCompany           | Lama bekerja pada perusahaan                  |\n",
    "| YearsInCurrentRole       | Lama bekerja pada posisi ini                  |\n",
    "| YearsSinceLastPromotion  | Lama berkerja sejak kenaikan jabatan terakhir |\n",
    "| YearsWithCurrManager     | Lama bekerja dengan manager saat ini          |"
   ]
  },
  {
   "cell_type": "markdown",
   "metadata": {},
   "source": [
    "# __SUPERVISED LEARNING__"
   ]
  },
  {
   "cell_type": "code",
   "execution_count": 4,
   "metadata": {},
   "outputs": [],
   "source": [
    "import pandas as pd\n",
    "import matplotlib.pyplot as plt\n",
    "import seaborn as sns\n",
    "from matplotlib import rcParams\n",
    "\n",
    "rcParams['figure.figsize'] = (10,7)\n",
    "rcParams['lines.linewidth'] = 2.5\n",
    "rcParams['xtick.labelsize'] = 'x-large'\n",
    "rcParams['ytick.labelsize'] = 'x-large'\n",
    "\n",
    "sns.set_theme(style='darkgrid')\n",
    "sns.set(font_scale=1.2, palette='Set1')"
   ]
  },
  {
   "cell_type": "markdown",
   "metadata": {},
   "source": [
    "## __MODELLING__"
   ]
  },
  {
   "cell_type": "markdown",
   "metadata": {},
   "source": [
    "### __SPLIT DATA__"
   ]
  },
  {
   "cell_type": "markdown",
   "metadata": {},
   "source": [
    "Kami akan melakukan split data dengan menggunakan train_test_split dengan perbandingan 70:30"
   ]
  },
  {
   "cell_type": "code",
   "execution_count": 8,
   "metadata": {},
   "outputs": [
    {
     "data": {
      "text/plain": [
       "((1726, 20), (740, 20), (1726,), (740,))"
      ]
     },
     "execution_count": 8,
     "metadata": {},
     "output_type": "execute_result"
    }
   ],
   "source": [
    "df = pd.read_csv('../Stage 2/Preprocessed.csv')\n",
    "\n",
    "#pisahkan target dan fitur\n",
    "x = df.drop('Attrition', axis=1)\n",
    "y = df['Attrition']\n",
    "\n",
    "from sklearn.model_selection import train_test_split\n",
    "\n",
    "X_train, X_test, y_train, y_test = train_test_split(x,y, test_size=0.3, stratify=y, random_state=7)\n",
    "X_train.shape, X_test.shape, y_train.shape, y_test.shape"
   ]
  },
  {
   "cell_type": "code",
   "execution_count": null,
   "metadata": {},
   "outputs": [],
   "source": []
  },
  {
   "cell_type": "code",
   "execution_count": null,
   "metadata": {},
   "outputs": [],
   "source": []
  }
 ],
 "metadata": {
  "kernelspec": {
   "display_name": "Python 3.10.5 64-bit",
   "language": "python",
   "name": "python3"
  },
  "language_info": {
   "codemirror_mode": {
    "name": "ipython",
    "version": 3
   },
   "file_extension": ".py",
   "mimetype": "text/x-python",
   "name": "python",
   "nbconvert_exporter": "python",
   "pygments_lexer": "ipython3",
   "version": "3.10.5"
  },
  "orig_nbformat": 4,
  "vscode": {
   "interpreter": {
    "hash": "7991611f1204b27f6cfa489e0663365e0a74444b4c5d959170e0f3700bb91e72"
   }
  }
 },
 "nbformat": 4,
 "nbformat_minor": 2
}
