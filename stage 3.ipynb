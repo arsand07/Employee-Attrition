{
 "cells": [
  {
   "cell_type": "code",
   "execution_count": 8,
   "id": "21d02170-51b8-4d8e-8a10-c76674741752",
   "metadata": {},
   "outputs": [],
   "source": [
    "import pandas as pd\n",
    "\n",
    "import warnings\n",
    "warnings.filterwarnings('ignore')"
   ]
  },
  {
   "cell_type": "code",
   "execution_count": 9,
   "id": "8de50d32-6371-418e-b112-89177bef41e1",
   "metadata": {},
   "outputs": [
    {
     "data": {
      "text/html": [
       "<div>\n",
       "<style scoped>\n",
       "    .dataframe tbody tr th:only-of-type {\n",
       "        vertical-align: middle;\n",
       "    }\n",
       "\n",
       "    .dataframe tbody tr th {\n",
       "        vertical-align: top;\n",
       "    }\n",
       "\n",
       "    .dataframe thead th {\n",
       "        text-align: right;\n",
       "    }\n",
       "</style>\n",
       "<table border=\"1\" class=\"dataframe\">\n",
       "  <thead>\n",
       "    <tr style=\"text-align: right;\">\n",
       "      <th></th>\n",
       "      <th>Age</th>\n",
       "      <th>EnvironmentSatisfaction</th>\n",
       "      <th>JobInvolvement</th>\n",
       "      <th>JobLevel</th>\n",
       "      <th>JobSatisfaction</th>\n",
       "      <th>MonthlyIncome</th>\n",
       "      <th>StockOptionLevel</th>\n",
       "      <th>WorkLifeBalance</th>\n",
       "      <th>YearsWithCurrManager</th>\n",
       "      <th>EducationField_Medical</th>\n",
       "      <th>...</th>\n",
       "      <th>JobRole_Manager</th>\n",
       "      <th>JobRole_Manufacturing Director</th>\n",
       "      <th>JobRole_Research Director</th>\n",
       "      <th>BusinessTravel_Non-Travel</th>\n",
       "      <th>BusinessTravel_Travel_Rarely</th>\n",
       "      <th>Department_Research &amp; Development</th>\n",
       "      <th>MaritalStatus_Divorced</th>\n",
       "      <th>MaritalStatus_Married</th>\n",
       "      <th>MaritalStatus_Single</th>\n",
       "      <th>Attrition</th>\n",
       "    </tr>\n",
       "  </thead>\n",
       "  <tbody>\n",
       "    <tr>\n",
       "      <th>1820</th>\n",
       "      <td>0.226256</td>\n",
       "      <td>4</td>\n",
       "      <td>2</td>\n",
       "      <td>2</td>\n",
       "      <td>3</td>\n",
       "      <td>0.332534</td>\n",
       "      <td>0</td>\n",
       "      <td>3</td>\n",
       "      <td>0.255046</td>\n",
       "      <td>0</td>\n",
       "      <td>...</td>\n",
       "      <td>0</td>\n",
       "      <td>0</td>\n",
       "      <td>0</td>\n",
       "      <td>0</td>\n",
       "      <td>1</td>\n",
       "      <td>0</td>\n",
       "      <td>0</td>\n",
       "      <td>0</td>\n",
       "      <td>1</td>\n",
       "      <td>1</td>\n",
       "    </tr>\n",
       "    <tr>\n",
       "      <th>683</th>\n",
       "      <td>0.166667</td>\n",
       "      <td>3</td>\n",
       "      <td>2</td>\n",
       "      <td>1</td>\n",
       "      <td>2</td>\n",
       "      <td>0.090313</td>\n",
       "      <td>3</td>\n",
       "      <td>3</td>\n",
       "      <td>0.000000</td>\n",
       "      <td>0</td>\n",
       "      <td>...</td>\n",
       "      <td>0</td>\n",
       "      <td>0</td>\n",
       "      <td>0</td>\n",
       "      <td>0</td>\n",
       "      <td>1</td>\n",
       "      <td>0</td>\n",
       "      <td>0</td>\n",
       "      <td>1</td>\n",
       "      <td>0</td>\n",
       "      <td>1</td>\n",
       "    </tr>\n",
       "    <tr>\n",
       "      <th>730</th>\n",
       "      <td>0.285714</td>\n",
       "      <td>2</td>\n",
       "      <td>4</td>\n",
       "      <td>3</td>\n",
       "      <td>1</td>\n",
       "      <td>0.669433</td>\n",
       "      <td>3</td>\n",
       "      <td>2</td>\n",
       "      <td>0.500000</td>\n",
       "      <td>0</td>\n",
       "      <td>...</td>\n",
       "      <td>0</td>\n",
       "      <td>0</td>\n",
       "      <td>1</td>\n",
       "      <td>0</td>\n",
       "      <td>1</td>\n",
       "      <td>1</td>\n",
       "      <td>0</td>\n",
       "      <td>1</td>\n",
       "      <td>0</td>\n",
       "      <td>0</td>\n",
       "    </tr>\n",
       "    <tr>\n",
       "      <th>787</th>\n",
       "      <td>0.880952</td>\n",
       "      <td>4</td>\n",
       "      <td>3</td>\n",
       "      <td>3</td>\n",
       "      <td>2</td>\n",
       "      <td>0.641130</td>\n",
       "      <td>1</td>\n",
       "      <td>3</td>\n",
       "      <td>0.142857</td>\n",
       "      <td>0</td>\n",
       "      <td>...</td>\n",
       "      <td>0</td>\n",
       "      <td>1</td>\n",
       "      <td>0</td>\n",
       "      <td>0</td>\n",
       "      <td>0</td>\n",
       "      <td>1</td>\n",
       "      <td>0</td>\n",
       "      <td>1</td>\n",
       "      <td>0</td>\n",
       "      <td>0</td>\n",
       "    </tr>\n",
       "    <tr>\n",
       "      <th>1377</th>\n",
       "      <td>0.738095</td>\n",
       "      <td>2</td>\n",
       "      <td>3</td>\n",
       "      <td>5</td>\n",
       "      <td>4</td>\n",
       "      <td>0.251512</td>\n",
       "      <td>0</td>\n",
       "      <td>3</td>\n",
       "      <td>0.214286</td>\n",
       "      <td>0</td>\n",
       "      <td>...</td>\n",
       "      <td>0</td>\n",
       "      <td>0</td>\n",
       "      <td>1</td>\n",
       "      <td>0</td>\n",
       "      <td>0</td>\n",
       "      <td>1</td>\n",
       "      <td>0</td>\n",
       "      <td>1</td>\n",
       "      <td>0</td>\n",
       "      <td>0</td>\n",
       "    </tr>\n",
       "  </tbody>\n",
       "</table>\n",
       "<p>5 rows × 21 columns</p>\n",
       "</div>"
      ],
      "text/plain": [
       "           Age  EnvironmentSatisfaction  JobInvolvement  JobLevel  \\\n",
       "1820  0.226256                        4               2         2   \n",
       "683   0.166667                        3               2         1   \n",
       "730   0.285714                        2               4         3   \n",
       "787   0.880952                        4               3         3   \n",
       "1377  0.738095                        2               3         5   \n",
       "\n",
       "      JobSatisfaction  MonthlyIncome  StockOptionLevel  WorkLifeBalance  \\\n",
       "1820                3       0.332534                 0                3   \n",
       "683                 2       0.090313                 3                3   \n",
       "730                 1       0.669433                 3                2   \n",
       "787                 2       0.641130                 1                3   \n",
       "1377                4       0.251512                 0                3   \n",
       "\n",
       "      YearsWithCurrManager  EducationField_Medical  ...  JobRole_Manager  \\\n",
       "1820              0.255046                       0  ...                0   \n",
       "683               0.000000                       0  ...                0   \n",
       "730               0.500000                       0  ...                0   \n",
       "787               0.142857                       0  ...                0   \n",
       "1377              0.214286                       0  ...                0   \n",
       "\n",
       "      JobRole_Manufacturing Director  JobRole_Research Director  \\\n",
       "1820                               0                          0   \n",
       "683                                0                          0   \n",
       "730                                0                          1   \n",
       "787                                1                          0   \n",
       "1377                               0                          1   \n",
       "\n",
       "      BusinessTravel_Non-Travel  BusinessTravel_Travel_Rarely  \\\n",
       "1820                          0                             1   \n",
       "683                           0                             1   \n",
       "730                           0                             1   \n",
       "787                           0                             0   \n",
       "1377                          0                             0   \n",
       "\n",
       "      Department_Research & Development  MaritalStatus_Divorced  \\\n",
       "1820                                  0                       0   \n",
       "683                                   0                       0   \n",
       "730                                   1                       0   \n",
       "787                                   1                       0   \n",
       "1377                                  1                       0   \n",
       "\n",
       "      MaritalStatus_Married  MaritalStatus_Single  Attrition  \n",
       "1820                      0                     1          1  \n",
       "683                       1                     0          1  \n",
       "730                       1                     0          0  \n",
       "787                       1                     0          0  \n",
       "1377                      1                     0          0  \n",
       "\n",
       "[5 rows x 21 columns]"
      ]
     },
     "execution_count": 9,
     "metadata": {},
     "output_type": "execute_result"
    }
   ],
   "source": [
    "data = pd.read_csv('Preprocessed.csv')\n",
    "data.sample(5)"
   ]
  },
  {
   "cell_type": "code",
   "execution_count": 10,
   "id": "a9950d9d-00f3-4f1c-bfff-9009a2e56263",
   "metadata": {},
   "outputs": [
    {
     "name": "stdout",
     "output_type": "stream",
     "text": [
      "<class 'pandas.core.frame.DataFrame'>\n",
      "RangeIndex: 2466 entries, 0 to 2465\n",
      "Data columns (total 21 columns):\n",
      " #   Column                             Non-Null Count  Dtype  \n",
      "---  ------                             --------------  -----  \n",
      " 0   Age                                2466 non-null   float64\n",
      " 1   EnvironmentSatisfaction            2466 non-null   int64  \n",
      " 2   JobInvolvement                     2466 non-null   int64  \n",
      " 3   JobLevel                           2466 non-null   int64  \n",
      " 4   JobSatisfaction                    2466 non-null   int64  \n",
      " 5   MonthlyIncome                      2466 non-null   float64\n",
      " 6   StockOptionLevel                   2466 non-null   int64  \n",
      " 7   WorkLifeBalance                    2466 non-null   int64  \n",
      " 8   YearsWithCurrManager               2466 non-null   float64\n",
      " 9   EducationField_Medical             2466 non-null   int64  \n",
      " 10  JobRole_Healthcare Representative  2466 non-null   int64  \n",
      " 11  JobRole_Manager                    2466 non-null   int64  \n",
      " 12  JobRole_Manufacturing Director     2466 non-null   int64  \n",
      " 13  JobRole_Research Director          2466 non-null   int64  \n",
      " 14  BusinessTravel_Non-Travel          2466 non-null   int64  \n",
      " 15  BusinessTravel_Travel_Rarely       2466 non-null   int64  \n",
      " 16  Department_Research & Development  2466 non-null   int64  \n",
      " 17  MaritalStatus_Divorced             2466 non-null   int64  \n",
      " 18  MaritalStatus_Married              2466 non-null   int64  \n",
      " 19  MaritalStatus_Single               2466 non-null   int64  \n",
      " 20  Attrition                          2466 non-null   int64  \n",
      "dtypes: float64(3), int64(18)\n",
      "memory usage: 404.7 KB\n"
     ]
    }
   ],
   "source": [
    "data.info()"
   ]
  },
  {
   "cell_type": "markdown",
   "id": "acea0cb6-7de2-47ff-9710-65c9afa36b7f",
   "metadata": {},
   "source": [
    "### Split Data"
   ]
  },
  {
   "cell_type": "code",
   "execution_count": 11,
   "id": "190c8365-9cf1-4e09-ab5a-7abe94c9de04",
   "metadata": {},
   "outputs": [
    {
     "data": {
      "text/plain": [
       "((1726, 20), (740, 20), (1726, 1), (740, 1))"
      ]
     },
     "execution_count": 11,
     "metadata": {},
     "output_type": "execute_result"
    }
   ],
   "source": [
    "# memisahkan feature dengan target\n",
    "x = data.drop(columns=['Attrition'])\n",
    "y = data[['Attrition']]\n",
    "\n",
    "from sklearn.model_selection import train_test_split\n",
    "x_train, x_test, y_train, y_test = train_test_split(x, y, test_size=0.3, random_state=42) #memisahkan data train dan test dengan skala 70:30\n",
    "\n",
    "x_train.shape, x_test.shape, y_train.shape, y_test.shape"
   ]
  },
  {
   "cell_type": "markdown",
   "id": "12e3d165-3ef3-478c-b01f-932a4a7c6468",
   "metadata": {},
   "source": [
    "## Modelling"
   ]
  },
  {
   "cell_type": "markdown",
   "id": "8a71e7ee-42aa-4364-a1a0-9d44976832e7",
   "metadata": {},
   "source": [
    "### Supervised Learning"
   ]
  },
  {
   "cell_type": "code",
   "execution_count": 30,
   "id": "0b656bb3-7d0e-4ab5-86f5-649d8d6990ae",
   "metadata": {},
   "outputs": [],
   "source": [
    "#Import model\n",
    "from sklearn.linear_model import LogisticRegression\n",
    "from sklearn.neighbors import KNeighborsClassifier\n",
    "from sklearn.tree import DecisionTreeClassifier\n",
    "from sklearn.ensemble import RandomForestClassifier\n",
    "\n",
    "#mengecek metriks akurasi\n",
    "from sklearn.metrics import accuracy_score"
   ]
  },
  {
   "cell_type": "code",
   "execution_count": 31,
   "id": "ab4d1acc-9b8c-47a9-9454-6ab205a4e9e3",
   "metadata": {},
   "outputs": [],
   "source": [
    "#model\n",
    "lr = LogisticRegression()\n",
    "knn = KNeighborsClassifier()\n",
    "dt = DecisionTreeClassifier()\n",
    "rf = RandomForestClassifier()"
   ]
  },
  {
   "cell_type": "code",
   "execution_count": 32,
   "id": "11b9526b-7ff5-4c0b-9a22-5ee171d41d33",
   "metadata": {},
   "outputs": [
    {
     "name": "stdout",
     "output_type": "stream",
     "text": [
      "LogisticRegression : 0.827027027027027\n",
      "KNeighborsClassifier : 0.8513513513513513\n",
      "DecisionTreeClassifier : 0.8\n",
      "RandomForestClassifier : 0.9013513513513514\n"
     ]
    }
   ],
   "source": [
    "#cek akurasi model\n",
    "for i in [lr, knn, dt, rf]:\n",
    "    i.fit(x_train, y_train)\n",
    "    \n",
    "    y_pred = i.predict(x_test)\n",
    "    \n",
    "    print(i.__class__.__name__, ':', accuracy_score(y_test, y_pred))"
   ]
  },
  {
   "cell_type": "markdown",
   "id": "6bfd9561-89db-4283-ad02-ab27cf5d9ca8",
   "metadata": {},
   "source": [
    "dari beberapa model yang dicoba model Random Forest memiliki tingkat akurasi yang paling tinggi yaitu sekitar 89%"
   ]
  },
  {
   "cell_type": "code",
   "execution_count": 23,
   "id": "62a94ea6-ab30-4a94-979f-ca12605af1cf",
   "metadata": {},
   "outputs": [],
   "source": [
    "#menambahkan metriks lain\n",
    "from sklearn.metrics import precision_score, recall_score, f1_score, roc_auc_score"
   ]
  },
  {
   "cell_type": "code",
   "execution_count": 24,
   "id": "9a5fb63e-ddf3-46d7-b3e6-0e2ce9e74601",
   "metadata": {},
   "outputs": [],
   "source": [
    "def eval_class(model):\n",
    "    y_pred = model.predict(x_test)\n",
    "    y_pred_train = model.predict(x_train)\n",
    "    y_pred_proba = model.predict_proba(x_test)\n",
    "    y_pred_proba_train = model.predict_proba(x_train)\n",
    "    \n",
    "    print(\"Accuracy (Test Set): %.2f\" % accuracy_score(y_test, y_pred))\n",
    "    print(\"Precision (Test Set): %.2f\" % precision_score(y_test, y_pred))\n",
    "    print(\"Recall (Test Set): %.2f\" % recall_score(y_test, y_pred))\n",
    "    print(\"F1-Score (Test Set): %.2f\" % f1_score(y_test, y_pred))\n",
    "    \n",
    "    print(\"roc_auc (test-proba): %.2f\" % roc_auc_score(y_test, y_pred_proba[:, 1]))\n",
    "    print(\"roc_auc (train-proba): %.2f\" % roc_auc_score(y_train, y_pred_proba_train[:, 1]))"
   ]
  },
  {
   "cell_type": "code",
   "execution_count": 26,
   "id": "1f0cbda8-4130-4b51-9351-1271aec04e12",
   "metadata": {},
   "outputs": [
    {
     "name": "stdout",
     "output_type": "stream",
     "text": [
      "Accuracy (Test Set): 0.90\n",
      "Precision (Test Set): 0.90\n",
      "Recall (Test Set): 0.90\n",
      "F1-Score (Test Set): 0.90\n",
      "roc_auc (test-proba): 0.96\n",
      "roc_auc (train-proba): 1.00\n"
     ]
    }
   ],
   "source": [
    "#evaluasi model random forest\n",
    "rf.fit(x_train, y_train)\n",
    "eval_class(rf)"
   ]
  },
  {
   "cell_type": "code",
   "execution_count": 27,
   "id": "45ee1b96-d8b5-42f4-9ad6-8d55c2295901",
   "metadata": {},
   "outputs": [
    {
     "name": "stdout",
     "output_type": "stream",
     "text": [
      "Accuracy (Test Set): 0.85\n",
      "Precision (Test Set): 0.81\n",
      "Recall (Test Set): 0.93\n",
      "F1-Score (Test Set): 0.86\n",
      "roc_auc (test-proba): 0.92\n",
      "roc_auc (train-proba): 0.97\n"
     ]
    }
   ],
   "source": [
    "#evaluasi model KNN\n",
    "knn.fit(x_train, y_train)\n",
    "eval_class(knn)"
   ]
  },
  {
   "cell_type": "code",
   "execution_count": 28,
   "id": "5f541e44-b55c-46d0-b14d-c6b0dcc4e98f",
   "metadata": {},
   "outputs": [
    {
     "name": "stdout",
     "output_type": "stream",
     "text": [
      "Accuracy (Test Set): 0.83\n",
      "Precision (Test Set): 0.83\n",
      "Recall (Test Set): 0.83\n",
      "F1-Score (Test Set): 0.83\n",
      "roc_auc (test-proba): 0.92\n",
      "roc_auc (train-proba): 0.92\n"
     ]
    }
   ],
   "source": [
    "#evaluasi model Logistic Regression\n",
    "lr.fit(x_train, y_train)\n",
    "eval_class(lr)"
   ]
  },
  {
   "cell_type": "code",
   "execution_count": 33,
   "id": "e5d1bc3a-9258-4891-846d-e3c5273113d3",
   "metadata": {},
   "outputs": [
    {
     "name": "stdout",
     "output_type": "stream",
     "text": [
      "Accuracy (Test Set): 0.81\n",
      "Precision (Test Set): 0.79\n",
      "Recall (Test Set): 0.85\n",
      "F1-Score (Test Set): 0.82\n",
      "roc_auc (test-proba): 0.81\n",
      "roc_auc (train-proba): 1.00\n"
     ]
    }
   ],
   "source": [
    "#evaluasi model Decision Tree\n",
    "dt.fit(x_train, y_train)\n",
    "eval_class(dt)"
   ]
  },
  {
   "cell_type": "markdown",
   "id": "a1a3c749-e52a-4fee-8979-8542d43a3d57",
   "metadata": {},
   "source": [
    "setelah dilakukan evaluasi pada ke-empat model diatas, model logistic regression memiliki hasil yang cukup baik (kurang eror)"
   ]
  },
  {
   "cell_type": "code",
   "execution_count": 34,
   "id": "20c91b9e-627b-46fa-b016-10b9eef209f1",
   "metadata": {},
   "outputs": [],
   "source": [
    "#menambahkan model validasi (cross validation)\n",
    "from sklearn.model_selection import cross_validate"
   ]
  },
  {
   "cell_type": "code",
   "execution_count": 36,
   "id": "0d9e78b0-81b5-4fb9-8695-e7f435cfa8f9",
   "metadata": {},
   "outputs": [
    {
     "ename": "IndentationError",
     "evalue": "unindent does not match any outer indentation level (<tokenize>, line 5)",
     "output_type": "error",
     "traceback": [
      "\u001b[1;36m  File \u001b[1;32m<tokenize>:5\u001b[1;36m\u001b[0m\n\u001b[1;33m    score = cross_validate(i, x, y, cv=5, scoring='roc_auc', return_train_score=True)\u001b[0m\n\u001b[1;37m    ^\u001b[0m\n\u001b[1;31mIndentationError\u001b[0m\u001b[1;31m:\u001b[0m unindent does not match any outer indentation level\n"
     ]
    }
   ],
   "source": [
    "#mengevaluasi model denga cross validation\n",
    "for i in [lr, knn, dt, rf]:\n",
    "     i.fit(x_train, y_train)\n",
    "        \n",
    "    score = cross_validate(i, x, y, cv=5, scoring='roc_auc', return_train_score=True)\n",
    "    print(i.__class__.__name__, 'roc_auc (crossval train): '+ str(score['train_score'].mean()))\n",
    "    print(i.__class__.__name__, 'roc_auc (crossval test): '+ str(score['test_score'].mean()))"
   ]
  },
  {
   "cell_type": "code",
   "execution_count": 38,
   "id": "05d3b3bf-827c-4da3-8559-0d5c80ed6bbf",
   "metadata": {},
   "outputs": [],
   "source": [
    "def cross_val(model):\n",
    "    score = cross_validate(model, x, y, cv=5, scoring='roc_auc', return_train_score=True)\n",
    "    print('roc_auc (crossval train): '+ str(score['train_score'].mean()))\n",
    "    print('roc_auc (crossval test): '+ str(score['test_score'].mean()))"
   ]
  },
  {
   "cell_type": "code",
   "execution_count": 39,
   "id": "96f0ec50-e209-4c75-a780-5f6041825e16",
   "metadata": {},
   "outputs": [
    {
     "name": "stdout",
     "output_type": "stream",
     "text": [
      "roc_auc (crossval train): 1.0\n",
      "roc_auc (crossval test): 0.9668598208954109\n"
     ]
    }
   ],
   "source": [
    "#cross validation Random Forest\n",
    "rf.fit(x_train, y_train)\n",
    "cross_val(rf)"
   ]
  },
  {
   "cell_type": "code",
   "execution_count": 41,
   "id": "c629b5c6-8fd2-481e-ad9d-c3dd0fa46973",
   "metadata": {},
   "outputs": [
    {
     "name": "stdout",
     "output_type": "stream",
     "text": [
      "roc_auc (crossval train): 0.9740759804968926\n",
      "roc_auc (crossval test): 0.9293795450944395\n"
     ]
    }
   ],
   "source": [
    "#cross validation KNN\n",
    "knn.fit(x_train, y_train)\n",
    "cross_val(knn)"
   ]
  },
  {
   "cell_type": "code",
   "execution_count": 42,
   "id": "62d03cb7-7326-4513-b97c-c5f0d62bf679",
   "metadata": {},
   "outputs": [
    {
     "name": "stdout",
     "output_type": "stream",
     "text": [
      "roc_auc (crossval train): 0.9189765683774815\n",
      "roc_auc (crossval test): 0.9140132996504446\n"
     ]
    }
   ],
   "source": [
    "#cross validation Logistic Regression\n",
    "lr.fit(x_train, y_train)\n",
    "cross_val(lr)"
   ]
  },
  {
   "cell_type": "code",
   "execution_count": 43,
   "id": "940ae406-d38f-4c05-8f42-106da3a4d721",
   "metadata": {},
   "outputs": [
    {
     "name": "stdout",
     "output_type": "stream",
     "text": [
      "roc_auc (crossval train): 1.0\n",
      "roc_auc (crossval test): 0.8090566472466344\n"
     ]
    }
   ],
   "source": [
    "#cross validation Decision Tree\n",
    "dt.fit(x_train, y_train)\n",
    "cross_val(dt)"
   ]
  },
  {
   "cell_type": "markdown",
   "id": "7fb251d1-247a-4585-844b-222b6728fb4e",
   "metadata": {},
   "source": [
    "dari hasil pengecekan menggunakan cross validation pada keempat model tersebut, hasil terbaik masih pada logistic regression"
   ]
  },
  {
   "cell_type": "code",
   "execution_count": null,
   "id": "42c3c67b-3e73-4957-9ddf-b0ba1e96efa3",
   "metadata": {},
   "outputs": [],
   "source": []
  }
 ],
 "metadata": {
  "kernelspec": {
   "display_name": "Python 3 (ipykernel)",
   "language": "python",
   "name": "python3"
  },
  "language_info": {
   "codemirror_mode": {
    "name": "ipython",
    "version": 3
   },
   "file_extension": ".py",
   "mimetype": "text/x-python",
   "name": "python",
   "nbconvert_exporter": "python",
   "pygments_lexer": "ipython3",
   "version": "3.9.12"
  }
 },
 "nbformat": 4,
 "nbformat_minor": 5
}
